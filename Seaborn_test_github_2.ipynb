{
  "nbformat": 4,
  "nbformat_minor": 0,
  "metadata": {
    "colab": {
      "provenance": [],
      "include_colab_link": true
    },
    "kernelspec": {
      "name": "python3",
      "display_name": "Python 3"
    },
    "language_info": {
      "name": "python"
    }
  },
  "cells": [
    {
      "cell_type": "markdown",
      "metadata": {
        "id": "view-in-github",
        "colab_type": "text"
      },
      "source": [
        "<a href=\"https://colab.research.google.com/github/anumit-web/Seaborn-tutorial-1-Colab/blob/main/Seaborn_test_github_2.ipynb\" target=\"_parent\"><img src=\"https://colab.research.google.com/assets/colab-badge.svg\" alt=\"Open In Colab\"/></a>"
      ]
    },
    {
      "cell_type": "markdown",
      "source": [
        "### Seaborn\n",
        "\n",
        "Python visualization library\n",
        "\n",
        "The Ultimate Python Seaborn Tutorial: Gotta Catch 'Em All\n",
        "\n",
        "https://elitedatascience.com/python-seaborn-tutorial"
      ],
      "metadata": {
        "id": "Oddud14LnY0w"
      }
    },
    {
      "cell_type": "code",
      "source": [
        "# Pandas for managing datasets\n",
        "import pandas as pd"
      ],
      "metadata": {
        "id": "w7aSefoc1m-_"
      },
      "execution_count": null,
      "outputs": []
    },
    {
      "cell_type": "code",
      "source": [
        "# Matplotlib for additional customization\n",
        "from matplotlib import pyplot as plt"
      ],
      "metadata": {
        "id": "ZgrALDQu1z77"
      },
      "execution_count": null,
      "outputs": []
    },
    {
      "cell_type": "code",
      "source": [
        "# Seaborn for plotting and styling\n",
        "import seaborn as sns"
      ],
      "metadata": {
        "id": "CQlkfm3b2FT4"
      },
      "execution_count": null,
      "outputs": []
    },
    {
      "cell_type": "code",
      "source": [
        "# Read dataset\n",
        "df = pd.read_csv('Pokemon.csv', index_col=0, encoding='latin')"
      ],
      "metadata": {
        "id": "Vj3bXi443pTS"
      },
      "execution_count": null,
      "outputs": []
    },
    {
      "cell_type": "code",
      "source": [
        "# Display first 5 observations\n",
        "df.head()"
      ],
      "metadata": {
        "id": "fkw8N60D37T-"
      },
      "execution_count": null,
      "outputs": []
    },
    {
      "cell_type": "markdown",
      "source": [],
      "metadata": {
        "id": "HV2UcfL2_aUc"
      }
    },
    {
      "cell_type": "code",
      "source": [
        "df.tail()"
      ],
      "metadata": {
        "id": "wwL_fdks_bGH"
      },
      "execution_count": null,
      "outputs": []
    },
    {
      "cell_type": "code",
      "source": [
        "pkmn_type_colors = ['#78C850',  # Grass\n",
        "                    '#F08030',  # Fire\n",
        "                    '#6890F0',  # Water\n",
        "                    '#A8B820',  # Bug\n",
        "                    '#A8A878',  # Normal\n",
        "                    '#A040A0',  # Poison\n",
        "                    '#F8D030',  # Electric\n",
        "                    '#E0C068',  # Ground\n",
        "                    '#EE99AC',  # Fairy\n",
        "                    '#C03028',  # Fighting\n",
        "                    '#F85888',  # Psychic\n",
        "                    '#B8A038',  # Rock\n",
        "                    '#705898',  # Ghost\n",
        "                    '#98D8D8',  # Ice\n",
        "                    '#7038F8',  # Dragon\n",
        "                   ]"
      ],
      "metadata": {
        "id": "MS_duAiZATT5"
      },
      "execution_count": null,
      "outputs": []
    },
    {
      "cell_type": "markdown",
      "source": [
        "swarm plot comes in. This visualization will show each point, while “stacking” those with similar values:"
      ],
      "metadata": {
        "id": "n63r9vYo_1pY"
      }
    },
    {
      "cell_type": "code",
      "source": [
        "# Swarm plot with Pokemon color palette\n",
        "plt.figure(figsize=(11,6)) # Set plot dimensions\n",
        "sns.swarmplot(x='Type 1', y='Attack', data=df,\n",
        "              palette=pkmn_type_colors)"
      ],
      "metadata": {
        "id": "LvoFhelV_w-d"
      },
      "execution_count": null,
      "outputs": []
    },
    {
      "cell_type": "markdown",
      "source": [
        "## Step 8: Overlaying Plots"
      ],
      "metadata": {
        "id": "uXUkCFL5A6JD"
      }
    },
    {
      "cell_type": "markdown",
      "source": [
        "## skip"
      ],
      "metadata": {
        "id": "d_acY1PFFmOc"
      }
    },
    {
      "cell_type": "markdown",
      "source": [],
      "metadata": {
        "id": "_mv_nm1qFr9A"
      }
    },
    {
      "cell_type": "code",
      "source": [
        "# Preprocess DataFrame\n",
        "stats_df = df.drop(['Total', 'Stage', 'Legendary'], axis=1)"
      ],
      "metadata": {
        "id": "LuLrAiAYFskw"
      },
      "execution_count": null,
      "outputs": []
    },
    {
      "cell_type": "code",
      "source": [
        "stats_df.head()"
      ],
      "metadata": {
        "id": "fS9BhFr3G3sj"
      },
      "execution_count": null,
      "outputs": []
    },
    {
      "cell_type": "code",
      "source": [
        "print( stats_df.shape )"
      ],
      "metadata": {
        "id": "PA6iCLUBHU67"
      },
      "execution_count": null,
      "outputs": []
    },
    {
      "cell_type": "markdown",
      "source": [
        "## Step 10: Pokédex (Mini-Gallery)"
      ],
      "metadata": {
        "id": "57VWHmVpF_1J"
      }
    },
    {
      "cell_type": "code",
      "source": [
        "# Calculate correlations\n",
        "corr = stats_df.corr()\n",
        "\n",
        "# Heatmap\n",
        "plt.figure(figsize=(9,8))\n",
        "sns.heatmap(corr)"
      ],
      "metadata": {
        "id": "0z3VY8gXGDO_"
      },
      "execution_count": null,
      "outputs": []
    }
  ]
}