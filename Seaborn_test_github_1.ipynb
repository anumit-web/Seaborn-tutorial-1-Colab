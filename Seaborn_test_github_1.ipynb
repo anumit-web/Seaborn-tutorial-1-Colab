{
  "nbformat": 4,
  "nbformat_minor": 0,
  "metadata": {
    "colab": {
      "provenance": [],
      "include_colab_link": true
    },
    "kernelspec": {
      "name": "python3",
      "display_name": "Python 3"
    },
    "language_info": {
      "name": "python"
    }
  },
  "cells": [
    {
      "cell_type": "markdown",
      "metadata": {
        "id": "view-in-github",
        "colab_type": "text"
      },
      "source": [
        "<a href=\"https://colab.research.google.com/github/anumit-web/Seaborn-tutorial-1-Colab/blob/main/Seaborn_test_github_1.ipynb\" target=\"_parent\"><img src=\"https://colab.research.google.com/assets/colab-badge.svg\" alt=\"Open In Colab\"/></a>"
      ]
    },
    {
      "cell_type": "markdown",
      "source": [
        "### Seaborn\n",
        "\n",
        "Python visualization library\n",
        "\n",
        "The Ultimate Python Seaborn Tutorial: Gotta Catch 'Em All\n",
        "\n",
        "https://elitedatascience.com/python-seaborn-tutorial"
      ],
      "metadata": {
        "id": "Oddud14LnY0w"
      }
    },
    {
      "cell_type": "code",
      "source": [
        "# Pandas for managing datasets\n",
        "import pandas as pd"
      ],
      "metadata": {
        "id": "w7aSefoc1m-_"
      },
      "execution_count": 4,
      "outputs": []
    },
    {
      "cell_type": "code",
      "source": [
        "# Matplotlib for additional customization\n",
        "from matplotlib import pyplot as plt"
      ],
      "metadata": {
        "id": "ZgrALDQu1z77"
      },
      "execution_count": 5,
      "outputs": []
    }
  ]
}